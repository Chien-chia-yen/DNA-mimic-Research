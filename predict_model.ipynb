{
  "nbformat": 4,
  "nbformat_minor": 0,
  "metadata": {
    "colab": {
      "provenance": []
    },
    "kernelspec": {
      "name": "python3",
      "display_name": "Python 3"
    },
    "language_info": {
      "name": "python"
    }
  },
  "cells": [
    {
      "cell_type": "code",
      "source": [
        "import pandas as pd\n",
        "#由於KNN分類法是藉由確認最近的觀察值來預測分類，因此變數的比例就會影響很大\n",
        "#載入標準化比例尺(StandardScaler)套件\n",
        "from sklearn.preprocessing import StandardScaler\n",
        "from sklearn.decomposition import PCA\n",
        "# load dataset\n",
        "df = pd.read_excel(\"optimize_fingerprint_and_features.xlsx\",index_col=0)\n",
        "\n",
        "\n",
        "dx=df.drop(['DNA_mimic'],axis=1)\n",
        "dy=df['DNA_mimic']\n",
        "\n",
        "#由於KNN分類法是藉由確認最近的觀察值來預測分類，因此變數的比例就會影響很大\n",
        "#載入標準化比例尺(StandardScaler)套件\n",
        "dx = PCA(n_components=2).fit_transform(dx)\n",
        "dx = StandardScaler().fit_transform(dx)\n",
        "\n",
        "#dx=dx.to_numpy()\n",
        "dy=dy.to_numpy()"
      ],
      "metadata": {
        "id": "0v3hYK-xb16w"
      },
      "execution_count": 1,
      "outputs": []
    },
    {
      "cell_type": "code",
      "source": [
        "# Save Model Using joblib\n",
        "import numpy as np\n",
        "import joblib\n",
        "from sklearn.neighbors import KNeighborsClassifier\n",
        "\n",
        "knn = KNeighborsClassifier(n_neighbors=4)\n",
        "X_train=dx\n",
        "y_train=dy\n",
        "knn.fit(X_train, y_train)\n",
        "joblib.dump(knn, 'Our_KNN_model')"
      ],
      "metadata": {
        "colab": {
          "base_uri": "https://localhost:8080/"
        },
        "id": "hFgj1X_zbhzW",
        "outputId": "cbf85eb3-cf3c-46e8-d59a-d5dd50b0078a"
      },
      "execution_count": 2,
      "outputs": [
        {
          "output_type": "execute_result",
          "data": {
            "text/plain": [
              "['Our_KNN_model']"
            ]
          },
          "metadata": {},
          "execution_count": 2
        }
      ]
    },
    {
      "cell_type": "code",
      "source": [
        "# load the model from disk\n",
        "import numpy as np\n",
        "import joblib\n",
        "\n",
        "loaded_model = joblib.load('Our_KNN_model')\n",
        "df_predict = pd.read_excel(\"predict_data.xlsx\",index_col=0)\n",
        "#由於KNN分類法是藉由確認最近的觀察值來預測分類，因此變數的比例就會影響很大\n",
        "#載入標準化比例尺(StandardScaler)套件\n",
        "df_predict = PCA(n_components=2).fit_transform(df_predict)\n",
        "df_predict = StandardScaler().fit_transform(df_predict)\n",
        "#print(df_predict)\n",
        "result = loaded_model.predict(df_predict)\n",
        "#result = loaded_model.predict(df_predict.to_numpy())\n",
        "print(result)\n"
      ],
      "metadata": {
        "colab": {
          "base_uri": "https://localhost:8080/"
        },
        "id": "5bmV3rIgbk6Y",
        "outputId": "8f2f9155-49cc-42e1-92f4-9ec2d61956d5"
      },
      "execution_count": 3,
      "outputs": [
        {
          "output_type": "stream",
          "name": "stdout",
          "text": [
            "[0 0 0 0 0 0 0 1 0 0 0 0 0 0 0 0 0 1 0 0 1 0 0 0 1 1 0 0 0 0 0 0 0 0 0 1 0\n",
            " 0 0 0 0 0 1 1 1 0 0 0 0 1 0 0 0 1 0 0 0]\n"
          ]
        }
      ]
    },
    {
      "cell_type": "code",
      "source": [
        "##############將經過predict的fingerprint寫入excel###############\n",
        "import os\n",
        "os.chdir('./')  # Colab 換路徑使用\n",
        "import openpyxl\n",
        "df = pd.read_excel(\"predict_data.xlsx\")\n",
        "predict_protein=df['Protein pdb'].tolist()\n",
        "\n",
        "\n",
        "wb = openpyxl.load_workbook('empty_file.xlsx', data_only=True)\n",
        "s1 = wb['工作表1']            # 開啟工作表 1\n",
        "\n",
        "s1['A1'].value = 'Protein pdb'\n",
        "for i in range(len(predict_protein)):\n",
        "  s1.cell(2+i,1).value=predict_protein[i]\n",
        "s1['B1'].value = 'Predict result'\n",
        "for i in range(len(predict_protein)):\n",
        "  s1.cell(2+i,2).value=result[i]\n",
        "\n",
        "wb.save('predict_protein_result.xlsx')"
      ],
      "metadata": {
        "id": "a9ojPi6Dobok"
      },
      "execution_count": 4,
      "outputs": []
    }
  ]
}
