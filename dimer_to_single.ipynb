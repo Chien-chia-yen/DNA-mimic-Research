{
  "nbformat": 4,
  "nbformat_minor": 0,
  "metadata": {
    "colab": {
      "provenance": []
    },
    "kernelspec": {
      "name": "python3",
      "display_name": "Python 3"
    },
    "language_info": {
      "name": "python"
    }
  },
  "cells": [
    {
      "cell_type": "code",
      "source": [
        "import zipfile\n",
        "with zipfile.ZipFile(\"./new_pdb.zip\", \"r\") as zip_ref:\n",
        "    zip_ref.extractall(\"./new_pdb\")####要自己創一個放壓縮後data的資料夾########"
      ],
      "metadata": {
        "id": "xncYXI7O35HZ"
      },
      "execution_count": 8,
      "outputs": []
    },
    {
      "cell_type": "code",
      "source": [
        "import os\n",
        "all_file_name=os.listdir(\"./new_pdb\")\n",
        "print(all_file_name)\n",
        "for i in range(len(all_file_name)):\n",
        "  all_file_name[i]=all_file_name[i][:-4]\n",
        "print(all_file_name)"
      ],
      "metadata": {
        "colab": {
          "base_uri": "https://localhost:8080/"
        },
        "id": "DhkeHqCD4cMh",
        "outputId": "b7d0d534-74f9-445a-d6b4-b67e4a284fad"
      },
      "execution_count": 9,
      "outputs": [
        {
          "output_type": "stream",
          "name": "stdout",
          "text": [
            "['3vjz.pdb']\n",
            "['3vjz']\n"
          ]
        }
      ]
    },
    {
      "cell_type": "code",
      "source": [
        "################非累加##############\n",
        "from sklearn.metrics import mean_squared_error\n",
        "class Protein:\n",
        "    def __init__(self, ATOM, serial, name, resName, chainID, resSeq, x, y, z, temp1, temp2, temp3,temp4):\n",
        "        self.ATOM = ATOM  # 記錄類型\n",
        "        self.serial = serial  # 原子序號\n",
        "        self.name = name  # 原子名稱\n",
        "        self.resName = resName  # 殘基名稱\n",
        "        self.chainID = chainID  # Chain identifier 鏈標記號\n",
        "        self.resSeq = resSeq  # Residue sequence number 殘基序列號\n",
        "        self.x = x  # 直角X坐標\n",
        "        self.y = y  # 直角y坐標\n",
        "        self.z = z  # 直角z坐標\n",
        "        self.temp1 = temp1\n",
        "        self.temp2 = temp2\n",
        "        self.temp3 = temp3\n",
        "        self.temp4 = temp4\n",
        "\n",
        "\n",
        "\n",
        "\n",
        "\n",
        "\n",
        "\n",
        "\n",
        "target_x=[]\n",
        "target_y=[]\n",
        "target_z=[]\n",
        "count_tar=0\n",
        "count_obj=0\n",
        "\n",
        "NxN_noaccum_fingerprint=[]\n",
        "\n",
        "####存x/y/z座標########\n",
        "\n",
        "\n",
        "\n",
        "for i in range(len(all_file_name)):\n",
        "  inputPath='./new_pdb/'+all_file_name[i]+'.pdb'\n",
        "  data=[]\n",
        "\n",
        "\n",
        "  with open(inputPath) as f:\n",
        "    ###print(f)\n",
        "    lines = f.readlines()\n",
        "\n",
        "    for line in lines:\n",
        "\n",
        "      x = line.split()\n",
        "\n",
        "      if x[0] == 'END' or x[0] == 'TER':\n",
        "        break\n",
        "      if (x[0] != 'ATOM' )and(x[0] != 'HETATM'):\n",
        "        continue\n",
        "      ####print(x)\n",
        "      if len(x)<11:\n",
        "        continue\n",
        "      if len(x)==12:\n",
        "        protein = Protein(x[0], x[1], x[2], x[3], x[4],\n",
        "                x[5], x[6], x[7], x[8], x[9], x[10],\"Empty\", x[11])\n",
        "      if len(x)==11:\n",
        "        protein = Protein(x[0], x[1], x[2], x[3], x[4],\n",
        "                x[5], x[6], x[7], x[8], x[9], x[10],\"Empty\",\"Empty\")\n",
        "      if len(x)==13:\n",
        "        protein = Protein(x[0], x[1], x[2], x[3], x[4],\n",
        "                x[5], x[6], x[7], x[8], x[9], x[10],x[11],x[12])\n",
        "      ####print(line)\n",
        "      data.append(line)\n",
        "    ###########write file##########\n",
        "    path = './single_new_pdb/'+all_file_name[i]+'.pdb'\n",
        "    f = open(path, 'w')\n",
        "    ###print(len(data))\n",
        "    ###print(type(data[0]))\n",
        "    for i in range(len(data)):\n",
        "      f.writelines(data[i])\n",
        "    ####f.write(\"TER\")\n",
        "    f.write(\"END\")\n",
        "    f.close()\n",
        ""
      ],
      "metadata": {
        "id": "ShZyn_sLnmBm"
      },
      "execution_count": 10,
      "outputs": []
    },
    {
      "cell_type": "code",
      "source": [
        "!zip -r /content/single_new_pdb.zip /content/single_new_pdb"
      ],
      "metadata": {
        "colab": {
          "base_uri": "https://localhost:8080/"
        },
        "id": "hsc0dOzu80Yj",
        "outputId": "c7c42e43-b776-493a-90b2-4949ece685d6"
      },
      "execution_count": 11,
      "outputs": [
        {
          "output_type": "stream",
          "name": "stdout",
          "text": [
            "updating: content/single_new_pdb/ (stored 0%)\n",
            "updating: content/single_new_pdb/3vjz.pdb (deflated 75%)\n"
          ]
        }
      ]
    }
  ]
}
